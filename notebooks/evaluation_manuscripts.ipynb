{
 "cells": [
  {
   "cell_type": "code",
   "execution_count": 8,
   "metadata": {},
   "outputs": [],
   "source": [
    "import numpy as np\n",
    "import torch.nn.functional as F\n",
    "import torch"
   ]
  },
  {
   "cell_type": "code",
   "execution_count": 9,
   "metadata": {},
   "outputs": [],
   "source": [
    "vaes  = torch.from_numpy(np.load('/home/syurtseven/GI-Tract-Image-Segmentation/synthetic_data_generation/gsoc/src/evaluation/vaess.npy'))\n",
    "reals = torch.from_numpy(np.load('/home/syurtseven/GI-Tract-Image-Segmentation/synthetic_data_generation/gsoc/src/evaluation/reals.npy'))\n",
    "diffs = torch.from_numpy(np.load('/home/syurtseven/GI-Tract-Image-Segmentation/synthetic_data_generation/gsoc/src/evaluation/diffs.npy'))"
   ]
  },
  {
   "cell_type": "code",
   "execution_count": 11,
   "metadata": {},
   "outputs": [
    {
     "name": "stdout",
     "output_type": "stream",
     "text": [
      "tensor(21.3843)\n",
      "tensor(291.5666)\n"
     ]
    }
   ],
   "source": [
    "print(F.mse_loss(reals, vaes))\n",
    "print(F.mse_loss(reals, diffs))"
   ]
  },
  {
   "cell_type": "code",
   "execution_count": 12,
   "metadata": {},
   "outputs": [
    {
     "name": "stdout",
     "output_type": "stream",
     "text": [
      "tensor(78.4541)\n",
      "tensor(275.0435)\n"
     ]
    }
   ],
   "source": [
    "print(F.cross_entropy(reals, vaes))\n",
    "print(F.cross_entropy(reals, diffs))"
   ]
  }
 ],
 "metadata": {
  "kernelspec": {
   "display_name": "gsoc",
   "language": "python",
   "name": "python3"
  },
  "language_info": {
   "codemirror_mode": {
    "name": "ipython",
    "version": 3
   },
   "file_extension": ".py",
   "mimetype": "text/x-python",
   "name": "python",
   "nbconvert_exporter": "python",
   "pygments_lexer": "ipython3",
   "version": "3.12.2"
  }
 },
 "nbformat": 4,
 "nbformat_minor": 2
}
