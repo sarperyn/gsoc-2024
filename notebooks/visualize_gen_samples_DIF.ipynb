{
 "cells": [
  {
   "cell_type": "code",
   "execution_count": 1,
   "metadata": {},
   "outputs": [],
   "source": [
    "import sys\n",
    "import os\n",
    "sys.path.append(os.path.dirname(os.getcwd()))\n",
    "\n",
    "import torch\n",
    "import matplotlib.pyplot as plt\n",
    "from src.models.ddpm import DiffusionModel, UNet"
   ]
  },
  {
   "cell_type": "code",
   "execution_count": 2,
   "metadata": {},
   "outputs": [],
   "source": [
    "def visualize_tensor(tensor):\n",
    "    \n",
    "    tensor = tensor.cpu().numpy()\n",
    "    \n",
    "    tensor = tensor.squeeze(1)\n",
    "    \n",
    "    # Plot each image\n",
    "    fig, axes = plt.subplots(1, 5, figsize=(20, 4))\n",
    "    for i in range(5):\n",
    "        axes[i].imshow(tensor[i], cmap='gray')\n",
    "        axes[i].axis('off')\n",
    "    plt.show()\n"
   ]
  },
  {
   "cell_type": "code",
   "execution_count": 3,
   "metadata": {},
   "outputs": [],
   "source": [
    "generated = torch.load('/home/syurtseven/gsoc/scripts/generated_samples.pt')"
   ]
  },
  {
   "cell_type": "code",
   "execution_count": null,
   "metadata": {},
   "outputs": [],
   "source": []
  }
 ],
 "metadata": {
  "kernelspec": {
   "display_name": "gsoc",
   "language": "python",
   "name": "python3"
  },
  "language_info": {
   "codemirror_mode": {
    "name": "ipython",
    "version": 3
   },
   "file_extension": ".py",
   "mimetype": "text/x-python",
   "name": "python",
   "nbconvert_exporter": "python",
   "pygments_lexer": "ipython3",
   "version": "3.12.2"
  }
 },
 "nbformat": 4,
 "nbformat_minor": 2
}
